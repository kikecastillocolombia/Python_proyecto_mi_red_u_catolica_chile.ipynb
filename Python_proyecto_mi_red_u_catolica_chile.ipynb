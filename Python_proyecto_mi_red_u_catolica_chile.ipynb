{
  "nbformat": 4,
  "nbformat_minor": 0,
  "metadata": {
    "colab": {
      "provenance": [],
      "authorship_tag": "ABX9TyP/w2F9TuonHZFSXWOs9Pz7",
      "include_colab_link": true
    },
    "kernelspec": {
      "name": "python3",
      "display_name": "Python 3"
    },
    "language_info": {
      "name": "python"
    }
  },
  "cells": [
    {
      "cell_type": "markdown",
      "metadata": {
        "id": "view-in-github",
        "colab_type": "text"
      },
      "source": [
        "<a href=\"https://colab.research.google.com/github/kikecastillocolombia/Python_proyecto_mi_red_u_catolica_chile.ipynb/blob/main/Python_proyecto_mi_red_u_catolica_chile.ipynb\" target=\"_parent\"><img src=\"https://colab.research.google.com/assets/colab-badge.svg\" alt=\"Open In Colab\"/></a>"
      ]
    },
    {
      "cell_type": "code",
      "execution_count": 6,
      "metadata": {
        "colab": {
          "base_uri": "https://localhost:8080/",
          "height": 564
        },
        "id": "IuN1lDeH_8RH",
        "outputId": "7051c43e-b468-4700-b8b0-1c370c58df4f"
      },
      "outputs": [
        {
          "name": "stdout",
          "output_type": "stream",
          "text": [
            "Bienvenido a ... \n",
            "\n",
            "                  _                  __\n",
            "       ____ ___  (_)  ________  ____/ /\n",
            "      / __ `__ \\/ /  / ___/ _ \\/ __  /\n",
            "     / / / / / / /  / /  /  __/ /_/ /\n",
            "    /_/ /_/ /_/_/  /_/   \\___/\\__,_/\n",
            "\n",
            "    \n",
            "Para empezar, dime como te llamas. w\n"
          ]
        },
        {
          "output_type": "error",
          "ename": "KeyboardInterrupt",
          "evalue": "Interrupted by user",
          "traceback": [
            "\u001b[0;31m---------------------------------------------------------------------------\u001b[0m",
            "\u001b[0;31mKeyboardInterrupt\u001b[0m                         Traceback (most recent call last)",
            "\u001b[0;32m/tmp/ipython-input-6-1095493214.py\u001b[0m in \u001b[0;36m<cell line: 0>\u001b[0;34m()\u001b[0m\n\u001b[1;32m      9\u001b[0m \u001b[0;34m\u001b[0m\u001b[0m\n\u001b[1;32m     10\u001b[0m \u001b[0mRed\u001b[0m\u001b[0;34m.\u001b[0m\u001b[0mmostrar_bienvenida\u001b[0m\u001b[0;34m(\u001b[0m\u001b[0;34m)\u001b[0m\u001b[0;34m\u001b[0m\u001b[0;34m\u001b[0m\u001b[0m\n\u001b[0;32m---> 11\u001b[0;31m \u001b[0;34m(\u001b[0m\u001b[0mnombre\u001b[0m\u001b[0;34m,\u001b[0m \u001b[0medad\u001b[0m\u001b[0;34m,\u001b[0m \u001b[0mestatura_m\u001b[0m\u001b[0;34m,\u001b[0m \u001b[0mestatura_cm\u001b[0m\u001b[0;34m,\u001b[0m \u001b[0mnum_amigos\u001b[0m\u001b[0;34m)\u001b[0m \u001b[0;34m=\u001b[0m \u001b[0mRed\u001b[0m\u001b[0;34m.\u001b[0m\u001b[0mobtener_datos\u001b[0m\u001b[0;34m(\u001b[0m\u001b[0;34m)\u001b[0m\u001b[0;34m\u001b[0m\u001b[0;34m\u001b[0m\u001b[0m\n\u001b[0m\u001b[1;32m     12\u001b[0m \u001b[0;34m\u001b[0m\u001b[0m\n\u001b[1;32m     13\u001b[0m \u001b[0mprint\u001b[0m\u001b[0;34m(\u001b[0m\u001b[0;34m\"Muy bien,\"\u001b[0m\u001b[0;34m,\u001b[0m \u001b[0mnombre\u001b[0m\u001b[0;34m,\u001b[0m \u001b[0;34m\". Entonces podemos crear un perfil con estos datos.\"\u001b[0m\u001b[0;34m)\u001b[0m\u001b[0;34m\u001b[0m\u001b[0;34m\u001b[0m\u001b[0m\n",
            "\u001b[0;32m/content/S4Red.py\u001b[0m in \u001b[0;36mobtener_datos\u001b[0;34m()\u001b[0m\n\u001b[1;32m     39\u001b[0m \u001b[0;32mdef\u001b[0m \u001b[0mobtener_datos\u001b[0m\u001b[0;34m(\u001b[0m\u001b[0;34m)\u001b[0m\u001b[0;34m:\u001b[0m\u001b[0;34m\u001b[0m\u001b[0;34m\u001b[0m\u001b[0m\n\u001b[1;32m     40\u001b[0m     \u001b[0mn\u001b[0m \u001b[0;34m=\u001b[0m \u001b[0mobtener_nombre\u001b[0m\u001b[0;34m(\u001b[0m\u001b[0;34m)\u001b[0m\u001b[0;34m\u001b[0m\u001b[0;34m\u001b[0m\u001b[0m\n\u001b[0;32m---> 41\u001b[0;31m     \u001b[0me\u001b[0m \u001b[0;34m=\u001b[0m \u001b[0mobtener_edad\u001b[0m\u001b[0;34m(\u001b[0m\u001b[0;34m)\u001b[0m\u001b[0;34m\u001b[0m\u001b[0;34m\u001b[0m\u001b[0m\n\u001b[0m\u001b[1;32m     42\u001b[0m     \u001b[0;34m(\u001b[0m\u001b[0mem\u001b[0m\u001b[0;34m,\u001b[0m \u001b[0mec\u001b[0m\u001b[0;34m)\u001b[0m \u001b[0;34m=\u001b[0m \u001b[0mobtener_estatura\u001b[0m\u001b[0;34m(\u001b[0m\u001b[0;34m)\u001b[0m\u001b[0;34m\u001b[0m\u001b[0;34m\u001b[0m\u001b[0m\n\u001b[1;32m     43\u001b[0m     \u001b[0mna\u001b[0m \u001b[0;34m=\u001b[0m \u001b[0mobtener_num_amigos\u001b[0m\u001b[0;34m(\u001b[0m\u001b[0;34m)\u001b[0m\u001b[0;34m\u001b[0m\u001b[0;34m\u001b[0m\u001b[0m\n",
            "\u001b[0;32m/content/S4Red.py\u001b[0m in \u001b[0;36mobtener_edad\u001b[0;34m()\u001b[0m\n\u001b[1;32m     24\u001b[0m \u001b[0;34m\u001b[0m\u001b[0m\n\u001b[1;32m     25\u001b[0m \u001b[0;32mdef\u001b[0m \u001b[0mobtener_edad\u001b[0m\u001b[0;34m(\u001b[0m\u001b[0;34m)\u001b[0m\u001b[0;34m:\u001b[0m\u001b[0;34m\u001b[0m\u001b[0;34m\u001b[0m\u001b[0m\n\u001b[0;32m---> 26\u001b[0;31m     \u001b[0magno\u001b[0m \u001b[0;34m=\u001b[0m \u001b[0mint\u001b[0m\u001b[0;34m(\u001b[0m\u001b[0minput\u001b[0m\u001b[0;34m(\u001b[0m\u001b[0;34m\"Para preparar tu perfil, dime en quÃ© aÃ±o naciste. \"\u001b[0m\u001b[0;34m)\u001b[0m\u001b[0;34m)\u001b[0m\u001b[0;34m\u001b[0m\u001b[0;34m\u001b[0m\u001b[0m\n\u001b[0m\u001b[1;32m     27\u001b[0m     \u001b[0;32mreturn\u001b[0m \u001b[0;36m2025\u001b[0m\u001b[0;34m-\u001b[0m\u001b[0magno\u001b[0m\u001b[0;34m-\u001b[0m\u001b[0;36m1\u001b[0m\u001b[0;34m\u001b[0m\u001b[0;34m\u001b[0m\u001b[0m\n\u001b[1;32m     28\u001b[0m \u001b[0;34m\u001b[0m\u001b[0m\n",
            "\u001b[0;32m/usr/local/lib/python3.11/dist-packages/ipykernel/kernelbase.py\u001b[0m in \u001b[0;36mraw_input\u001b[0;34m(self, prompt)\u001b[0m\n\u001b[1;32m   1175\u001b[0m                 \u001b[0;34m\"raw_input was called, but this frontend does not support input requests.\"\u001b[0m\u001b[0;34m\u001b[0m\u001b[0;34m\u001b[0m\u001b[0m\n\u001b[1;32m   1176\u001b[0m             )\n\u001b[0;32m-> 1177\u001b[0;31m         return self._input_request(\n\u001b[0m\u001b[1;32m   1178\u001b[0m             \u001b[0mstr\u001b[0m\u001b[0;34m(\u001b[0m\u001b[0mprompt\u001b[0m\u001b[0;34m)\u001b[0m\u001b[0;34m,\u001b[0m\u001b[0;34m\u001b[0m\u001b[0;34m\u001b[0m\u001b[0m\n\u001b[1;32m   1179\u001b[0m             \u001b[0mself\u001b[0m\u001b[0;34m.\u001b[0m\u001b[0m_parent_ident\u001b[0m\u001b[0;34m[\u001b[0m\u001b[0;34m\"shell\"\u001b[0m\u001b[0;34m]\u001b[0m\u001b[0;34m,\u001b[0m\u001b[0;34m\u001b[0m\u001b[0;34m\u001b[0m\u001b[0m\n",
            "\u001b[0;32m/usr/local/lib/python3.11/dist-packages/ipykernel/kernelbase.py\u001b[0m in \u001b[0;36m_input_request\u001b[0;34m(self, prompt, ident, parent, password)\u001b[0m\n\u001b[1;32m   1217\u001b[0m             \u001b[0;32mexcept\u001b[0m \u001b[0mKeyboardInterrupt\u001b[0m\u001b[0;34m:\u001b[0m\u001b[0;34m\u001b[0m\u001b[0;34m\u001b[0m\u001b[0m\n\u001b[1;32m   1218\u001b[0m                 \u001b[0;31m# re-raise KeyboardInterrupt, to truncate traceback\u001b[0m\u001b[0;34m\u001b[0m\u001b[0;34m\u001b[0m\u001b[0m\n\u001b[0;32m-> 1219\u001b[0;31m                 \u001b[0;32mraise\u001b[0m \u001b[0mKeyboardInterrupt\u001b[0m\u001b[0;34m(\u001b[0m\u001b[0;34m\"Interrupted by user\"\u001b[0m\u001b[0;34m)\u001b[0m \u001b[0;32mfrom\u001b[0m \u001b[0;32mNone\u001b[0m\u001b[0;34m\u001b[0m\u001b[0;34m\u001b[0m\u001b[0m\n\u001b[0m\u001b[1;32m   1220\u001b[0m             \u001b[0;32mexcept\u001b[0m \u001b[0mException\u001b[0m\u001b[0;34m:\u001b[0m\u001b[0;34m\u001b[0m\u001b[0;34m\u001b[0m\u001b[0m\n\u001b[1;32m   1221\u001b[0m                 \u001b[0mself\u001b[0m\u001b[0;34m.\u001b[0m\u001b[0mlog\u001b[0m\u001b[0;34m.\u001b[0m\u001b[0mwarning\u001b[0m\u001b[0;34m(\u001b[0m\u001b[0;34m\"Invalid Message:\"\u001b[0m\u001b[0;34m,\u001b[0m \u001b[0mexc_info\u001b[0m\u001b[0;34m=\u001b[0m\u001b[0;32mTrue\u001b[0m\u001b[0;34m)\u001b[0m\u001b[0;34m\u001b[0m\u001b[0;34m\u001b[0m\u001b[0m\n",
            "\u001b[0;31mKeyboardInterrupt\u001b[0m: Interrupted by user"
          ]
        }
      ],
      "source": [
        "#Finalmente, podemos ver que nuestro archivo es cada vez mÃ¡s grande.\n",
        "\n",
        "#Vamos a crear un nuevo archivo .py y copiaremos en Ã©l todas las funciones que hemos definido.\n",
        "#Llamaremos a este archivo S4Red.py. Luego, para poder utilizar estas funciones dentro de nuestro archivo\n",
        "#principal, utilizaremos la instrucciÃ³n import.\n",
        "import S4Red as Red\n",
        "\n",
        "#AquÃ­ empieza el programa principal.\n",
        "\n",
        "Red.mostrar_bienvenida()\n",
        "(nombre, edad, estatura_m, estatura_cm, num_amigos) = Red.obtener_datos()\n",
        "\n",
        "print(\"Muy bien,\", nombre, \". Entonces podemos crear un perfil con estos datos.\")\n",
        "Red.mostrar_perfil(nombre, edad, estatura_m, estatura_cm, num_amigos)\n",
        "print(\"Ya podemos preguntar, recordar y calcular datos. Esperamos que disfrutes con Mi Red\")\n",
        "print(\"--------------------------------------------------\")\n",
        "\n",
        "opcion = 1\n",
        "while opcion != 0:\n",
        "    opcion = Red.opcion_menu()\n",
        "    if opcion == 1:\n",
        "        mensaje = Red.obtener_mensaje()\n",
        "        Red.mostrar_mensaje(nombre, None, mensaje)\n",
        "    elif opcion == 2:\n",
        "        mensaje = Red.obtener_mensaje()\n",
        "        for i in range(num_amigos):\n",
        "            nombre_amigo = input(\"Ingresa el nombre de tu amigo o amiga: \")\n",
        "            Red.mostrar_mensaje(nombre, nombre_amigo, mensaje)\n",
        "    elif opcion == 3:\n",
        "        Red.mostrar_perfil(nombre, edad, estatura_m, estatura_cm, num_amigos)\n",
        "    elif opcion == 4:\n",
        "        nombre = Red.obtener_nombre()\n",
        "        edad = Red.obtener_edad()\n",
        "        (estatura_m, estatura_cm) = Red.obtener_estatura()\n",
        "        num_amigos = Red.obtener_num_amigos()\n",
        "        Red.mostrar_perfil(nombre, edad, estatura_m, estatura_cm, num_amigos)\n",
        "    elif opcion == 0:\n",
        "        print(\"Has decidido salir.\")\n",
        "\n",
        "print(\"Gracias por usar Mi Red. Â¡Hasta pronto!\")\n",
        "\n",
        "#Como puedes ver, la parte principal de tu programa ahora es mucho mÃ¡s corto.\n",
        "#Gran parte de la funcionalidad estÃ¡ encapsulada en funciones, y estas funciones estÃ¡n definidas\n",
        "# en otro archivo que hemos importado.\n",
        "\n",
        "#Al usar funciones podemos concentrarnos en partes mÃ¡s especÃ­ficas de nuestro cÃ³digo,\n",
        "# y nos ayuda a razonar a un nivel mÃ¡s alto.\n"
      ]
    },
    {
      "cell_type": "code",
      "source": [],
      "metadata": {
        "id": "611_khL_ACHZ"
      },
      "execution_count": null,
      "outputs": []
    }
  ]
}